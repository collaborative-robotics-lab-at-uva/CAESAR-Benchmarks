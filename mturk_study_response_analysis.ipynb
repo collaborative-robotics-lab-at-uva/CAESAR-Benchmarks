{
 "cells": [
  {
   "cell_type": "code",
   "execution_count": 2,
   "metadata": {},
   "outputs": [],
   "source": [
    "import os\n",
    "import pandas as pd\n",
    "import numpy as np\n",
    "from collections import defaultdict\n",
    "from scipy import stats\n",
    "import torch\n",
    "import json\n",
    "import random\n",
    "from tqdm import tqdm\n",
    "from collections import defaultdict\n",
    "import re\n",
    "import shutil"
   ]
  },
  {
   "cell_type": "code",
   "execution_count": 3,
   "metadata": {},
   "outputs": [],
   "source": [
    "base_dir_path = '/project/CollabRoboGroup/mi8uu/repo/MAME/mturk_study'\n",
    "df1 =  pd.read_csv(f'{base_dir_path}/Batch_4753789_batch_results.csv')\n",
    "df2 =  pd.read_csv(f'{base_dir_path}/Batch_4754540_batch_results.csv')\n",
    "df3 =  pd.read_csv(f'{base_dir_path}/Batch_4754678_batch_results.csv')"
   ]
  },
  {
   "cell_type": "code",
   "execution_count": 4,
   "metadata": {},
   "outputs": [
    {
     "data": {
      "text/plain": [
       "Index(['HITId', 'HITTypeId', 'Title', 'Description', 'Keywords', 'Reward',\n",
       "       'CreationTime', 'MaxAssignments', 'RequesterAnnotation',\n",
       "       'AssignmentDurationInSeconds', 'AutoApprovalDelayInSeconds',\n",
       "       'Expiration', 'NumberOfSimilarHITs', 'LifetimeInSeconds',\n",
       "       'AssignmentId', 'WorkerId', 'AssignmentStatus', 'AcceptTime',\n",
       "       'SubmitTime', 'AutoApprovalTime', 'ApprovalTime', 'RejectionTime',\n",
       "       'RequesterFeedback', 'WorkTimeInSeconds', 'LifetimeApprovalRate',\n",
       "       'Last30DaysApprovalRate', 'Last7DaysApprovalRate', 'Input.id',\n",
       "       'Input.ego_view_image', 'Input.image_url', 'Input.top_view_image',\n",
       "       'Input.ego_view_image_object_start_poin',\n",
       "       'Input.ego_view_image_object_start_poin.1',\n",
       "       'Input.ego_view_image_object_end_point_',\n",
       "       'Input.ego_view_image_object_end_point_.1',\n",
       "       'Input.exo_view_image_object_start_poin',\n",
       "       'Input.exo_view_image_object_start_poin.1',\n",
       "       'Input.exo_view_image_object_end_point_',\n",
       "       'Input.exo_view_image_object_end_point_.1',\n",
       "       'Input.top_view_image_object_start_poin',\n",
       "       'Input.top_view_image_object_start_poin.1',\n",
       "       'Input.top_view_image_object_end_point_',\n",
       "       'Input.top_view_image_object_end_point_.1',\n",
       "       'Input.exo_view_image_all_objects_start',\n",
       "       'Input.exo_view_image_all_objects_start.1',\n",
       "       'Input.exo_view_image_all_objects_end_p',\n",
       "       'Input.exo_view_image_all_objects_end_p.1',\n",
       "       'Input.top_view_image_all_objects_start',\n",
       "       'Input.top_view_image_all_objects_start.1',\n",
       "       'Input.top_view_image_all_objects_end_p',\n",
       "       'Input.top_view_image_all_objects_end_p.1', 'Input.verbal_instruction',\n",
       "       'Input.instruction_perspective', 'Input.is_instruction_ambiguous',\n",
       "       'Input.perspective', 'Input.is_perspective_necessary',\n",
       "       'Input.is_contrastive', 'Input.view_name', 'Input.setting_name',\n",
       "       'Input.object_category', 'Input.absolute_location_ego',\n",
       "       'Input.absolute_location_exo', 'Input.spatial_relation_ego',\n",
       "       'Input.spatial_relation_exo', 'Input.instruction_template',\n",
       "       'Answer.gesture_sync', 'Approve', 'Reject'],\n",
       "      dtype='object')"
      ]
     },
     "execution_count": 4,
     "metadata": {},
     "output_type": "execute_result"
    }
   ],
   "source": [
    "df1.columns"
   ]
  },
  {
   "cell_type": "code",
   "execution_count": 7,
   "metadata": {},
   "outputs": [
    {
     "data": {
      "text/plain": [
       "397"
      ]
     },
     "execution_count": 7,
     "metadata": {},
     "output_type": "execute_result"
    }
   ],
   "source": [
    "len(df1.WorkerId.unique())+len(df2.WorkerId.unique())+len(df3.WorkerId.unique())"
   ]
  },
  {
   "cell_type": "code",
   "execution_count": 52,
   "metadata": {},
   "outputs": [],
   "source": [
    "res = defaultdict(int)\n",
    "for _, row1 in df1.iterrows():\n",
    "    res[row1['Input.id']] += row1['Answer.gesture_sync']\n",
    "for _, row2 in df2.iterrows():\n",
    "    res[row2['Input.id']] += row2['Answer.gesture_sync']\n",
    "for _, row3 in df3.iterrows():\n",
    "    res[row3['Input.id']] += row3['Answer.gesture_sync']"
   ]
  },
  {
   "cell_type": "code",
   "execution_count": 54,
   "metadata": {},
   "outputs": [],
   "source": [
    "res_filter = defaultdict(int)\n",
    "for key in res.keys():\n",
    "    if(res[key]>1):\n",
    "        res_filter[key] = 1\n",
    "    else:\n",
    "        res_filter[key] = 0\n"
   ]
  },
  {
   "cell_type": "code",
   "execution_count": 55,
   "metadata": {},
   "outputs": [
    {
     "name": "stdout",
     "output_type": "stream",
     "text": [
      "242\n",
      "0.8066666666666666\n"
     ]
    }
   ],
   "source": [
    "total = 0\n",
    "for _, row1 in df1.iterrows():\n",
    "    if(row1['Input.is_contrastive']==res_filter[row1['Input.id']]):\n",
    "        total += 1\n",
    "print(total)\n",
    "print(total/300)"
   ]
  }
 ],
 "metadata": {
  "kernelspec": {
   "display_name": "Python [conda env:.conda-pytorch13]",
   "language": "python",
   "name": "conda-env-.conda-pytorch13-py"
  },
  "language_info": {
   "codemirror_mode": {
    "name": "ipython",
    "version": 3
   },
   "file_extension": ".py",
   "mimetype": "text/x-python",
   "name": "python",
   "nbconvert_exporter": "python",
   "pygments_lexer": "ipython3",
   "version": "3.7.5"
  }
 },
 "nbformat": 4,
 "nbformat_minor": 4
}
