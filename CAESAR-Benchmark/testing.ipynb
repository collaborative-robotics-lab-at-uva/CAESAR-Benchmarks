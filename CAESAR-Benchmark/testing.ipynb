{
 "cells": [
  {
   "cell_type": "code",
   "execution_count": 1,
   "metadata": {},
   "outputs": [
    {
     "name": "stdout",
     "output_type": "stream",
     "text": [
      "current directory /home/mi8uu\n",
      "cwd change to: /project/CollabRoboGroup/mi8uu/repo/MAME\n"
     ]
    }
   ],
   "source": [
    "import os\n",
    "print('current directory', os.getcwd())\n",
    "abspath = os.path.abspath('/project/CollabRoboGroup/mi8uu/repo/MAME/src')\n",
    "dir_name = os.path.dirname(abspath)\n",
    "os.chdir(dir_name)\n",
    "print(f'cwd change to: {os.getcwd()}')\n",
    "\n",
    "from argparse import ArgumentParser\n",
    "from datetime import datetime\n",
    "import torch\n",
    "import wandb\n",
    "from pytorch_lightning import loggers, Trainer, seed_everything\n",
    "from sklearn.model_selection import LeaveOneOut\n",
    "\n",
    "from src.models.mog_model_trainer import *\n",
    "from src.models.base_model_trainer import *\n",
    "from src.datasets.data_module import *\n",
    "from src.utils.model_saving import *\n",
    "from src.utils.debug_utils import *\n",
    "from src.utils.log import TextLogger\n",
    "from src.configs import config\n",
    "\n",
    "from collections import defaultdict\n",
    "import numpy as np\n",
    "import torch\n",
    "import json\n",
    "import random"
   ]
  },
  {
   "cell_type": "code",
   "execution_count": 2,
   "metadata": {},
   "outputs": [
    {
     "data": {
      "text/plain": [
       "_StoreTrueAction(option_strings=['--only_testing'], dest='only_testing', nargs=0, const=True, default=False, type=None, choices=None, help='Perform only test on the pretrained model', metavar=None)"
      ]
     },
     "execution_count": 2,
     "metadata": {},
     "output_type": "execute_result"
    }
   ],
   "source": [
    "parser = ArgumentParser()\n",
    "\n",
    "parser.add_argument(\"-compute_mode\", \"--compute_mode\", help=\"compute_mode\",\n",
    "                    default='gpu')\n",
    "parser.add_argument(\"--fast_dev_run\", help=\"fast_dev_run\",\n",
    "                    action=\"store_true\", default=False)    \n",
    "parser.add_argument(\"-num_nodes\", \"--num_nodes\", help=\"num_nodes\",\n",
    "                    type=int, default=1)\n",
    "parser.add_argument(\"--strategy\", help=\"strategy\",\n",
    "                    default='ddp_spawn')\n",
    "parser.add_argument(\"--gpus\", help=\"number of gpus or gpus list\",\n",
    "                    default=\"-1\")\n",
    "parser.add_argument(\"--float_precision\", help=\"float precision\",\n",
    "                    type=int, default=32)\n",
    "parser.add_argument(\"--dataset_name\", help=\"dataset_name\",\n",
    "                    default=None)\n",
    "parser.add_argument(\"--dataset_filename\", help=\"dataset_name\",\n",
    "                    default='train.csv')\n",
    "parser.add_argument(\"-ws\", \"--window_size\", help=\"windows size\",\n",
    "                    type=int, default=5)\n",
    "parser.add_argument(\"-wst\", \"--window_stride\", help=\"windows stride\",\n",
    "                    type=int, default=5)\n",
    "parser.add_argument(\"-bs\", \"--batch_size\", help=\"batch size\",\n",
    "                    type=int, default=2)\n",
    "parser.add_argument(\"-nw\", \"--num_workers\", help=\"num_workers\",\n",
    "                    type=int, default=2)\n",
    "parser.add_argument(\"-ep\", \"--epochs\", help=\"epoch per validation cycle\",\n",
    "                    type=int, default=200)\n",
    "parser.add_argument(\"-lr\", \"--learning_rate\", help=\"learning rate\",\n",
    "                    type=float, default=3e-4)\n",
    "parser.add_argument(\"-sml\", \"--seq_max_len\", help=\"maximum sequence length\",\n",
    "                    type=int, default=200)\n",
    "parser.add_argument(\"-rt\", \"--resume_training\", help=\"resume training\",\n",
    "                    action=\"store_true\", default=False)\n",
    "parser.add_argument(\"-sl\", \"--strict_load\", help=\"partially or strictly load the saved model\",\n",
    "                    action=\"store_true\", default=False)\n",
    "parser.add_argument(\"-dfp\", \"--data_file_dir_base_path\", help=\"data_file_dir_base_path\",\n",
    "                    default=None)\n",
    "\n",
    "parser.add_argument(\"-enl\", \"--encoder_num_layers\", help=\"LSTM encoder layer\",\n",
    "                    type=int, default=2)\n",
    "parser.add_argument(\"-lstm_bi\", \"--lstm_bidirectional\", help=\"LSTM bidirectional [True/False]\",\n",
    "                    action=\"store_true\", default=False)\n",
    "\n",
    "parser.add_argument(\"-mcp\", \"--model_checkpoint_prefix\", help=\"model checkpoint filename prefix\",\n",
    "                    default='uva_dar')\n",
    "parser.add_argument(\"-mcf\", \"--model_checkpoint_filename\", help=\"model checkpoint filename\",\n",
    "                    default=None)\n",
    "parser.add_argument(\"-rcf\", \"--resume_checkpoint_filename\", help=\"resume checkpoint filename\",\n",
    "                    default=None)\n",
    "\n",
    "parser.add_argument(\"-logf\", \"--log_filename\", help=\"execution log filename\",\n",
    "                    default='exe_uva_dar.log')\n",
    "parser.add_argument(\"-logbd\", \"--log_base_dir\", help=\"execution log base dir\",\n",
    "                    default='log/uva_dar')\n",
    "parser.add_argument(\"-tb_wn\", \"--tb_writer_name\", help=\"tensorboard writer name\",\n",
    "                    default=None)\n",
    "parser.add_argument(\"-wdbln\", \"--wandb_log_name\", help=\"wandb_log_name\",\n",
    "                    default=None)\n",
    "parser.add_argument(\"--wandb_entity\", help=\"wandb_entity\",\n",
    "                    default='crg')\n",
    "parser.add_argument(\"--wandb_project_name\", help=\"wandb_project_name\",\n",
    "                    default='MAME')\n",
    "parser.add_argument(\"--log_model_archi\", help=\"log model\",\n",
    "                    action=\"store_true\", default=False)\n",
    "parser.add_argument(\"--print_data_id\", help=\"print_data_id\",\n",
    "                    action=\"store_true\", default=False)\n",
    "\n",
    "parser.add_argument(\"-ipf\", \"--is_pretrained_fe\", help=\"is_pretrained_fe\",\n",
    "                    action=\"store_true\", default=False)\n",
    "parser.add_argument(\"-edbp\", \"--embed_dir_base_path\", help=\"embed_dir_base_path\",\n",
    "                    default=None)\n",
    "parser.add_argument(\"--pt_vis_encoder_archi_type\", help=\"pt_vis_encoder_archi_type\",\n",
    "                    default='resnet18')\n",
    "\n",
    "parser.add_argument(\"-msbd\", \"--model_save_base_dir\", help=\"model_save_base_dir\",\n",
    "                    default=\"trained_model\")\n",
    "parser.add_argument(\"-exe_mode\", \"--exe_mode\", help=\"exe_mode[dl_test/train]\",\n",
    "                    default='train')\n",
    "parser.add_argument(\"--train_percent_check\", help=\"train_percent_check\",\n",
    "                    type=float, default=1.0)\n",
    "parser.add_argument(\"--num_sanity_val_steps\", help=\"num_sanity_val_steps\",\n",
    "                    type=int, default=5)\n",
    "parser.add_argument(\"--val_percent_check\", help=\"val_percent_check\",\n",
    "                    type=float, default=1.0)\n",
    "parser.add_argument(\"--limit_test_batches\", help=\"limit_test_batches\",\n",
    "                    type=float, default=1.0)\n",
    "parser.add_argument(\"--no_validation\", help=\"no_validation\",\n",
    "                    action=\"store_true\", default=False)\n",
    "parser.add_argument(\"--slurm_job_id\", help=\"slurm_job_id\",\n",
    "                    default=None)\n",
    "\n",
    "# Model\n",
    "parser.add_argument(\"--model_name\", help=\"model_name\",\n",
    "                    default=None)\n",
    "parser.add_argument(\"--is_decoders\", help=\"is_decoders\",\n",
    "                    action=\"store_true\", default=False)\n",
    "parser.add_argument(\"--is_bbox_embed\", help=\"is_bbox_embed\",\n",
    "                    action=\"store_true\", default=False)\n",
    "parser.add_argument(\"--is_bbox_cord_embed\", help=\"is_bbox_cord_embed\",\n",
    "                    action=\"store_true\", default=False)\n",
    "parser.add_argument(\"--is_bbox_image_mask_encode\", help=\"is_bbox_image_mask_encode\",\n",
    "                    action=\"store_true\", default=False)\n",
    "parser.add_argument(\"--combine_view_context_bbox\", help=\"combine_view_context_bbox\",\n",
    "                    action=\"store_true\", default=False)\n",
    "parser.add_argument(\"--is_only_target_box\", help=\"is_only_target_box\",\n",
    "                    action=\"store_true\", default=False)\n",
    "\n",
    "# Dataset Config\n",
    "parser.add_argument(\"--setting_names\", help=\"setting_names\",\n",
    "                    default=None)\n",
    "parser.add_argument(\"--view_modalities\", help=\"view_modalities\",\n",
    "                    default=None)\n",
    "parser.add_argument(\"--random_contrastive_data\", help=\"random_contrastive_data\",\n",
    "                    action=\"store_true\", default=False)\n",
    "parser.add_argument(\"--indi_modality_embedding_size\", help=\"indi_modality_embedding_size\",\n",
    "                    type=int, default=None)\n",
    "\n",
    "# Verbal Instruction Encoder Prop\n",
    "parser.add_argument(\"--tokenizer_name\", help=\"tokenizer_name\",\n",
    "                    default='bert-base-uncased')\n",
    "\n",
    "# View Encoders Prop\n",
    "parser.add_argument(\"--view_encoder_name\", help=\"tokenizer_name\",\n",
    "                    default='resnet34')\n",
    "\n",
    "# Multimodal Fusion Prop\n",
    "parser.add_argument(\"--fusion_model_name\", help=\"fusion_model_name\",\n",
    "                    default='concat')\n",
    "parser.add_argument(\"--fusion_model_nhead\", help=\"fusion_model_nhead\",\n",
    "                    type=int, default=4)\n",
    "parser.add_argument(\"--fusion_model_dropout\", help=\"fusion_model_dropout\",\n",
    "                    type=float, default=0.1)\n",
    "\n",
    "# Guided Projection Prop\n",
    "parser.add_argument(\"--guided_projection_nhead\", help=\"guided_projection_nhead\",\n",
    "                    type=int, default=1)\n",
    "parser.add_argument(\"--guided_projection_dropout\", help=\"guided_projection_dropout\",\n",
    "                    type=float, default=0.1)\n",
    "\n",
    "# Guided Fusion Prop\n",
    "parser.add_argument(\"--guided_fusion_nhead\", help=\"guided_fusion_nhead\",\n",
    "                    type=int, default=1)\n",
    "parser.add_argument(\"--guided_fusion_dropout\", help=\"guided_fusion_dropout\",\n",
    "                    type=float, default=0.1)\n",
    "\n",
    "# Multi-task Config\n",
    "parser.add_argument(\"--task_list\", help=\"task_list\",\n",
    "                    default=None)\n",
    "parser.add_argument(\"--bbox_format\", help=\"bbox_format\",\n",
    "                    default='xyxy')\n",
    "parser.add_argument(\"--multitask_modal_nhead\", help=\"multitask_modal_nhead\",\n",
    "                    type=int, default=1)\n",
    "parser.add_argument(\"--multitask_modal_dropout\", help=\"multitask_modal_dropout\",\n",
    "                    type=float, default=0.1)\n",
    "parser.add_argument(\"--instruction_template\", help=\"instruction_template\",\n",
    "                    default=None)\n",
    "parser.add_argument(\"--restrict_instruction_template\", help=\"instruction_template\",\n",
    "                    default=None)\n",
    "# possible value for instruction_template\n",
    "# ['template_null', 'template_1_1', 'ego_template_2_2', 'ego_template_3_1',\n",
    "# 'template_1_2', 'exo_template_2_1', 'exo_template_3_2',\n",
    "# 'ego_template_3_2', 'exo_template_2_2',\n",
    "# 'ego_template_2_1', 'exo_template_3_1']\n",
    "\n",
    "# Data preprocessing\n",
    "parser.add_argument(\"--data_split_type\", help=\"data_split_type\",\n",
    "                    default=None)\n",
    "parser.add_argument(\"--valid_split_pct\", help=\"valid_split_pct\",\n",
    "                    type=float, default=0.15)\n",
    "parser.add_argument(\"--test_split_pct\", help=\"test_split_pct\",\n",
    "                    type=float, default=0.2)\n",
    "parser.add_argument(\"--share_train_dataset\", help=\"share_train_dataset\",\n",
    "                    action=\"store_true\", default=False)\n",
    "parser.add_argument(\"--skip_frame_len\", help=\"skip_frame_len\",\n",
    "                    type=int, default=1)\n",
    "parser.add_argument(\"-rimg_w\", \"--resize_image_width\", help=\"resize to image width\",\n",
    "                    type=int, default=config.image_width)\n",
    "parser.add_argument(\"-rimg_h\", \"--resize_image_height\", help=\"resize to image height\",\n",
    "                    type=int, default=config.image_height)\n",
    "parser.add_argument(\"-cimg_w\", \"--crop_image_width\", help=\"crop to image width\",\n",
    "                    type=int, default=config.image_width)\n",
    "parser.add_argument(\"-cimg_h\", \"--crop_image_height\", help=\"crop to image height\",\n",
    "                    type=int, default=config.image_height)\n",
    "parser.add_argument(\"--image_scale\", help=\"image scale ration [0.1-1.0]\",\n",
    "                    type=float, default=0.35)\n",
    "\n",
    "# Optimization\n",
    "parser.add_argument(\"--lr_find\", help=\"learning rate finder\",\n",
    "                    action=\"store_true\", default=False)\n",
    "parser.add_argument(\"--lr_scheduler\", help=\"lr_scheduler\",\n",
    "                    default=None)\n",
    "parser.add_argument(\"-cl\", \"--cycle_length\", help=\"total number of executed iteration\",\n",
    "                    type=int, default=100)\n",
    "parser.add_argument(\"-cm\", \"--cycle_mul\", help=\"total number of executed iteration\",\n",
    "                    type=int, default=2)\n",
    "parser.add_argument(\"--is_random_seed\", help=\"is_random_seed\",\n",
    "                    action=\"store_true\", default=False)\n",
    "\n",
    "# Losses\n",
    "parser.add_argument(\"--loss_align_weight\", help=\"loss_align_weight\",\n",
    "                    type=float, default=0.3)\n",
    "parser.add_argument(\"--loss_diff_weight\", help=\"loss_diff_weight\",\n",
    "                    type=float, default=0.3)\n",
    "parser.add_argument(\"--loss_decoder_weight\", help=\"loss_decoder_weight\",\n",
    "                    type=float, default=0.3)\n",
    "parser.add_argument(\"--loss_multitask_weight\", help=\"loss_multitask_weight\",\n",
    "                    type=float, default=1.0)\n",
    "parser.add_argument(\"--bbox_loss_type\", help=\"bbox_loss_type\",\n",
    "                    default=None)\n",
    "\n",
    "# Testing Config\n",
    "parser.add_argument(\"--test_models\", help=\"test_models\",\n",
    "                    default='valid_loss,valid_accuracy,train_loss')\n",
    "parser.add_argument(\"--test_metrics\", help=\"test_metrics\",\n",
    "                    default='loss,accuracy,f1_scores,precision,recall_scores')\n",
    "parser.add_argument(\"--is_test\", help=\"evaluate on test dataset\",\n",
    "                    action=\"store_true\", default=False)\n",
    "parser.add_argument(\"--only_testing\", help=\"Perform only test on the pretrained model\",\n",
    "                    action=\"store_true\", default=False)\n"
   ]
  },
  {
   "cell_type": "code",
   "execution_count": 3,
   "metadata": {},
   "outputs": [],
   "source": [
    "#without noise\n",
    "args = parser.parse_args(args=['--batch_size','1',\n",
    "                              '--dataset_name', 'mog',\n",
    "                              '--dataset_filename', 'none',\n",
    "                               '--valid_split_pct', '0.2' ,\n",
    "                              '--view_modalities', 'exo_view_image,ego_view_image,top_view_image',\n",
    "                               '--setting_names', 'both_gaze_gesture,wrong_gaze_gesture',\n",
    "                               '--task_list', 'is_contrastive',\n",
    "                               '--model_name', 'base_model_vl_clip',\n",
    "                               '--fusion_model_name', 'concat',\n",
    "                              '--exe_mode', 'train',\n",
    "                               '--val_percent_check', '1' ,\n",
    "                                '--num_sanity_val_steps', '0' ,\n",
    "                               '--limit_test_batches', '1.0',\n",
    "                                '--train_percent_check', '1' ,\n",
    "                                '--compute_mode', 'gpu' ,\n",
    "                                '--strategy', 'ddp_spawn' ,\n",
    "                                '--float_precision', '32' ,\n",
    "                                '--num_workers', '8' ,\n",
    "                                '--gpus', '-1' ,\n",
    "                               '--image_scale', '0.5',\n",
    "                               '--view_encoder_name', 'resnet50',\n",
    "                              '--indi_modality_embedding_size', '512',\n",
    "                              '--bbox_format', 'xyxy',\n",
    "                               '--is_only_target_box',\n",
    "                               '--bbox_loss_type', 'l1_loss',\n",
    "                               '--restrict_instruction_template', 'template_null',\n",
    "                              '-dfp', '/project/CollabRoboGroup/datasets/official_data',\n",
    "                              '-msbd', 'trained_model/vl',\n",
    "                              '-mcp', 'test_run_base',\n",
    "                              #'-rcf', 'best_epoch_train_loss_test_run_base_1652583629.837785.pth',\n",
    "#                                '-rcf', 'best_epoch_train_loss_test_run_base_1652647041.889894.pth',\n",
    "                               '-rcf', 'best_epoch_train_loss_base_model_vl_1654001226.307563.pth',\n",
    "                              '-logbd', 'log/base/test_run',\n",
    "                              '-logf', 'testing.log',\n",
    "                              '--log_model_archi'])"
   ]
  },
  {
   "cell_type": "code",
   "execution_count": 4,
   "metadata": {},
   "outputs": [
    {
     "name": "stdout",
     "output_type": "stream",
     "text": [
      "model_checkpoint_prefix:test_run_base\n",
      "\n",
      "model_checkpoint_filename:test_run_base_1655369731.464758.pth, resume_checkpoint_filename:best_epoch_train_loss_base_model_vl_1654001226.307563.pth\n",
      "\n",
      "pytorch version: 1.9.1+cu102\n",
      "\n",
      "GPU Availability: cuda, gpus: -1\n",
      "\n"
     ]
    }
   ],
   "source": [
    "txt_logger = TextLogger(args.log_base_dir, \n",
    "                        args.log_filename,\n",
    "                        print_console=True)\n",
    "\n",
    "if args.model_checkpoint_filename is None:\n",
    "    args.model_checkpoint_filename = f'{args.model_checkpoint_prefix}_{datetime.utcnow().timestamp()}.pth'\n",
    "\n",
    "txt_logger.log(f'model_checkpoint_prefix:{args.model_checkpoint_prefix}\\n')\n",
    "txt_logger.log(f'model_checkpoint_filename:{args.model_checkpoint_filename}, resume_checkpoint_filename:{args.resume_checkpoint_filename}\\n')\n",
    "\n",
    "device = torch.device('cuda' if torch.cuda.is_available() else 'cpu')\n",
    "txt_logger.log(f'pytorch version: {torch.__version__}\\n')\n",
    "txt_logger.log(f'GPU Availability: {device}, gpus: {args.gpus}\\n')\n",
    "\n",
    "# Set dataloader class and prop \n",
    "args.setting_names = args.setting_names.strip().split(',')\n",
    "args.view_modalities = args.view_modalities.strip().split(',')\n",
    "args.task_list = args.task_list.strip().split(',')\n",
    "\n",
    "if args.dataset_name=='mog':\n",
    "\n",
    "    if args.resume_checkpoint_filename is not None:\n",
    "        args.resume_checkpoint_filepath = f'{args.model_save_base_dir}/{args.resume_checkpoint_filename}'\n",
    "        if os.path.exists(args.resume_checkpoint_filepath):\n",
    "            args.resume_training = True\n",
    "        else:\n",
    "            txt_logger.log(f'Checkpoint is not exists: {args.resume_checkpoint_filename}\\n')\n",
    "            args.resume_training = False"
   ]
  },
  {
   "cell_type": "code",
   "execution_count": 5,
   "metadata": {},
   "outputs": [],
   "source": [
    "dataset = MOG_Dataset_VL(hparams=args,\n",
    "                dataset_type='test')\n",
    "collate_fn = MOG_Collator_VL(args.model_name,\n",
    "                            args.view_modalities,\n",
    "                            args.task_list,\n",
    "                            args.is_bbox_embed,\n",
    "                            args.is_bbox_cord_embed,\n",
    "                            args.is_bbox_image_mask_encode,\n",
    "                            args.combine_view_context_bbox)\n",
    "\n",
    "data_loader = DataLoader(dataset,\n",
    "                batch_size=args.batch_size,\n",
    "                collate_fn=collate_fn,\n",
    "                num_workers=args.num_workers,\n",
    "                shuffle=False,\n",
    "                drop_last=True)"
   ]
  },
  {
   "cell_type": "code",
   "execution_count": 6,
   "metadata": {},
   "outputs": [
    {
     "data": {
      "text/plain": [
       "dict_keys(['exo_view_image_context', 'ego_view_image_context', 'top_view_image_context', 'bboxes_mask', 'is_contrastive_labels', 'task_ids', 'exo_view_image_processed_input', 'ego_view_image_processed_input', 'top_view_image_processed_input', 'scores', 'box_labels'])"
      ]
     },
     "execution_count": 6,
     "metadata": {},
     "output_type": "execute_result"
    }
   ],
   "source": [
    "dl_iter = iter(data_loader)\n",
    "sample_data = next(dl_iter)\n",
    "sample_data.keys()"
   ]
  },
  {
   "cell_type": "code",
   "execution_count": 7,
   "metadata": {},
   "outputs": [
    {
     "name": "stdout",
     "output_type": "stream",
     "text": [
      "checkpoint is found\n"
     ]
    }
   ],
   "source": [
    "args.resume_checkpoint_filepath = f'{args.model_save_base_dir}/{args.resume_checkpoint_filename}'\n",
    "if os.path.exists(args.resume_checkpoint_filepath):\n",
    "    print('checkpoint is found')\n",
    "else:\n",
    "    print('checkpoint is not found')"
   ]
  },
  {
   "cell_type": "code",
   "execution_count": 8,
   "metadata": {},
   "outputs": [],
   "source": [
    "dataModule = MOGDataModule(args)"
   ]
  },
  {
   "cell_type": "code",
   "execution_count": 9,
   "metadata": {},
   "outputs": [],
   "source": [
    "if(args.model_name=='mog_model'):\n",
    "    ModelTrainer = MOG_Model_Trainer\n",
    "elif('base' in args.model_name):\n",
    "    ModelTrainer = Base_Model_Trainer\n",
    "model = ModelTrainer(hparams=args)"
   ]
  },
  {
   "cell_type": "code",
   "execution_count": 10,
   "metadata": {},
   "outputs": [
    {
     "name": "stdout",
     "output_type": "stream",
     "text": [
      "Reload model from chekpoint: best_epoch_train_loss_base_model_vl_1654001226.307563.pth\n",
      " model_checkpoint_filename: test_run_base_1655369731.464758.pth\n",
      "\n"
     ]
    }
   ],
   "source": [
    "model = ModelTrainer.load_from_checkpoint(args.resume_checkpoint_filepath, hparams=args)\n",
    "txt_logger.log(f'Reload model from chekpoint: {args.resume_checkpoint_filename}\\n model_checkpoint_filename: {args.model_checkpoint_filename}\\n')"
   ]
  },
  {
   "cell_type": "code",
   "execution_count": 11,
   "metadata": {},
   "outputs": [],
   "source": [
    "# device = \"cpu\"\n",
    "# model = model.to(device)\n",
    "# _ = model.eval()\n",
    "# next(model.parameters()).is_cuda"
   ]
  },
  {
   "cell_type": "code",
   "execution_count": 12,
   "metadata": {},
   "outputs": [
    {
     "data": {
      "text/plain": [
       "'gpu'"
      ]
     },
     "execution_count": 12,
     "metadata": {},
     "output_type": "execute_result"
    }
   ],
   "source": [
    "args.compute_mode"
   ]
  },
  {
   "cell_type": "code",
   "execution_count": 13,
   "metadata": {},
   "outputs": [
    {
     "name": "stderr",
     "output_type": "stream",
     "text": [
      "/opt/conda/lib/python3.8/site-packages/pytorch_lightning/loops/utilities.py:91: PossibleUserWarning: `max_epochs` was not set. Setting it to 1000 epochs. To train without an epoch limit, set `max_epochs=-1`.\n",
      "  rank_zero_warn(\n",
      "GPU available: True, used: False\n",
      "TPU available: False, using: 0 TPU cores\n",
      "IPU available: False, using: 0 IPUs\n",
      "HPU available: False, using: 0 HPUs\n",
      "/opt/conda/lib/python3.8/site-packages/pytorch_lightning/trainer/trainer.py:1812: PossibleUserWarning: GPU available but not used. Set `accelerator` and `devices` using `Trainer(accelerator='gpu', devices=1)`.\n",
      "  rank_zero_warn(\n"
     ]
    }
   ],
   "source": [
    "trainer = Trainer(accelerator=\"cpu\")"
   ]
  },
  {
   "cell_type": "code",
   "execution_count": null,
   "metadata": {},
   "outputs": [
    {
     "name": "stdout",
     "output_type": "stream",
     "text": [
      "train dataset len: 257880\n",
      "\n",
      "valid dataset len: 28080\n",
      "\n",
      "test dataset len: 27822\n",
      "\n"
     ]
    },
    {
     "data": {
      "application/vnd.jupyter.widget-view+json": {
       "model_id": "e960466b74c24d23bead2f6d69dc4927",
       "version_major": 2,
       "version_minor": 0
      },
      "text/plain": [
       "Testing: 0it [00:00, ?it/s]"
      ]
     },
     "metadata": {},
     "output_type": "display_data"
    }
   ],
   "source": [
    "trainer.test(model, datamodule=dataModule)"
   ]
  }
 ],
 "metadata": {
  "kernelspec": {
   "display_name": "pytorch_1-11_pl_1-6-1",
   "language": "python",
   "name": "pytorch_1-11_pl_1-6-1"
  },
  "language_info": {
   "codemirror_mode": {
    "name": "ipython",
    "version": 3
   },
   "file_extension": ".py",
   "mimetype": "text/x-python",
   "name": "python",
   "nbconvert_exporter": "python",
   "pygments_lexer": "ipython3",
   "version": "3.8.12"
  }
 },
 "nbformat": 4,
 "nbformat_minor": 4
}
